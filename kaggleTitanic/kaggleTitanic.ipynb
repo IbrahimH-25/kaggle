{
 "cells": [
  {
   "cell_type": "code",
   "execution_count": 19,
   "metadata": {},
   "outputs": [],
   "source": [
    "from pandas import read_csv "
   ]
  },
  {
   "cell_type": "code",
   "execution_count": 20,
   "metadata": {},
   "outputs": [],
   "source": [
    "def displayHeadcsv(file):\n",
    "    csvDF = read_csv(file)\n",
    "    print(csvDF.columns)\n",
    "    print(csvDF.head)\n",
    "    \n"
   ]
  },
  {
   "cell_type": "code",
   "execution_count": 21,
   "metadata": {},
   "outputs": [
    {
     "name": "stdout",
     "output_type": "stream",
     "text": [
      "Index(['PassengerId', 'Survived'], dtype='object')\n",
      "<bound method NDFrame.head of      PassengerId  Survived\n",
      "0            892         0\n",
      "1            893         1\n",
      "2            894         0\n",
      "3            895         0\n",
      "4            896         1\n",
      "..           ...       ...\n",
      "413         1305         0\n",
      "414         1306         1\n",
      "415         1307         0\n",
      "416         1308         0\n",
      "417         1309         0\n",
      "\n",
      "[418 rows x 2 columns]>\n",
      "Index(['PassengerId', 'Pclass', 'Name', 'Sex', 'Age', 'SibSp', 'Parch',\n",
      "       'Ticket', 'Fare', 'Cabin', 'Embarked'],\n",
      "      dtype='object')\n",
      "<bound method NDFrame.head of      PassengerId  Pclass  ... Cabin Embarked\n",
      "0            892       3  ...   NaN        Q\n",
      "1            893       3  ...   NaN        S\n",
      "2            894       2  ...   NaN        Q\n",
      "3            895       3  ...   NaN        S\n",
      "4            896       3  ...   NaN        S\n",
      "..           ...     ...  ...   ...      ...\n",
      "413         1305       3  ...   NaN        S\n",
      "414         1306       1  ...  C105        C\n",
      "415         1307       3  ...   NaN        S\n",
      "416         1308       3  ...   NaN        S\n",
      "417         1309       3  ...   NaN        C\n",
      "\n",
      "[418 rows x 11 columns]>\n",
      "Index(['PassengerId', 'Survived', 'Pclass', 'Name', 'Sex', 'Age', 'SibSp',\n",
      "       'Parch', 'Ticket', 'Fare', 'Cabin', 'Embarked'],\n",
      "      dtype='object')\n",
      "<bound method NDFrame.head of      PassengerId  Survived  Pclass  ...     Fare Cabin  Embarked\n",
      "0              1         0       3  ...   7.2500   NaN         S\n",
      "1              2         1       1  ...  71.2833   C85         C\n",
      "2              3         1       3  ...   7.9250   NaN         S\n",
      "3              4         1       1  ...  53.1000  C123         S\n",
      "4              5         0       3  ...   8.0500   NaN         S\n",
      "..           ...       ...     ...  ...      ...   ...       ...\n",
      "886          887         0       2  ...  13.0000   NaN         S\n",
      "887          888         1       1  ...  30.0000   B42         S\n",
      "888          889         0       3  ...  23.4500   NaN         S\n",
      "889          890         1       1  ...  30.0000  C148         C\n",
      "890          891         0       3  ...   7.7500   NaN         Q\n",
      "\n",
      "[891 rows x 12 columns]>\n"
     ]
    }
   ],
   "source": [
    "print(read_csv(\"gender_submission.csv\").columns)\n",
    "print(read_csv(\"test.csv\").columns)\n",
    "print(read_csv(\"train.csv\").columns)\n"
   ]
  },
  {
   "cell_type": "code",
   "execution_count": null,
   "metadata": {},
   "outputs": [],
   "source": []
  }
 ],
 "metadata": {
  "kernelspec": {
   "display_name": "Python 3.10.2 64-bit",
   "language": "python",
   "name": "python3"
  },
  "language_info": {
   "codemirror_mode": {
    "name": "ipython",
    "version": 3
   },
   "file_extension": ".py",
   "mimetype": "text/x-python",
   "name": "python",
   "nbconvert_exporter": "python",
   "pygments_lexer": "ipython3",
   "version": "3.10.2"
  },
  "orig_nbformat": 4,
  "vscode": {
   "interpreter": {
    "hash": "3a87835ef3302642c595255454695d8396bb68a285bd230835682c4a4880a3d8"
   }
  }
 },
 "nbformat": 4,
 "nbformat_minor": 2
}
